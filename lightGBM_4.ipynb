{
 "cells": [
  {
   "cell_type": "markdown",
   "metadata": {},
   "source": [
    "# Model Training:"
   ]
  },
  {
   "cell_type": "code",
   "execution_count": 1,
   "metadata": {},
   "outputs": [],
   "source": [
    "import lightgbm as lgb\n",
    "from sklearn.metrics import f1_score\n",
    "from sklearn.model_selection import StratifiedKFold\n",
    "import pandas as pd\n",
    "import numpy as np\n",
    "from sklearn.preprocessing import LabelEncoder\n"
   ]
  },
  {
   "cell_type": "code",
   "execution_count": 2,
   "metadata": {},
   "outputs": [],
   "source": [
    "df_train = pd.read_csv('train.csv')"
   ]
  },
  {
   "cell_type": "code",
   "execution_count": 3,
   "metadata": {},
   "outputs": [],
   "source": [
    "from datetime import datetime\n",
    "\n",
    "# Convert 'birthday_date' to datetime format\n",
    "df_train['birthday_date'] = pd.to_datetime(df_train['birthday_date'], errors='coerce')\n",
    "\n",
    "# Calculate age\n",
    "current_year = datetime.now().year\n",
    "df_train['age'] = current_year - df_train['birthday_date'].dt.year\n"
   ]
  },
  {
   "cell_type": "code",
   "execution_count": 4,
   "metadata": {},
   "outputs": [],
   "source": [
    "columnt_to_drop = [ \n",
    "                   'id',\n",
    "                   'short_name',\n",
    "                   'value_eur',\n",
    "                   'wage_eur',\n",
    "                   'birthday_date',\n",
    "                   'club_name',\n",
    "                   'league_name',\n",
    "                   'league_level',\n",
    "                   'club_jersey_number',\n",
    "                   'club_loaned_from',\n",
    "                   'club_joined',\n",
    "                   'club_contract_valid_until',\n",
    "                   'nationality_name',\n",
    "                   'nation_jersey_number',\n",
    "                   'international_reputation',\n",
    "                   'work_rate',\n",
    "                   'body_type',\n",
    "                   'real_face',\n",
    "                   'release_clause_eur',\n",
    "                   'player_tags',\n",
    "                   'player_traits',\n",
    "                   'goalkeeping_handling',\n",
    "                   'goalkeeping_kicking',\n",
    "                   'goalkeeping_positioning',\n",
    "                   'goalkeeping_reflexes',\n",
    "                   ]\n",
    "\n",
    "df_train = df_train.drop(columnt_to_drop, axis=1)"
   ]
  },
  {
   "cell_type": "code",
   "execution_count": 5,
   "metadata": {},
   "outputs": [],
   "source": [
    "df_train.loc[df_train['goalkeeping_speed'].isna(), ['goalkeeping_speed']] = 0 \n",
    "df_train.loc[df_train['goalkeeping_speed'] != 0, ['pace', 'shooting', 'passing', 'dribbling', 'defending', 'physic']] = 0"
   ]
  },
  {
   "cell_type": "code",
   "execution_count": 6,
   "metadata": {},
   "outputs": [
    {
     "name": "stdout",
     "output_type": "stream",
     "text": [
      "Fitting 5 folds for each of 50 candidates, totalling 250 fits\n",
      "Mejores hiperparámetros: {'num_leaves': 127, 'max_depth': -1, 'learning_rate': 0.2, 'lambda_l2': 0, 'lambda_l1': 1.0, 'feature_fraction': 0.9, 'bagging_freq': 5, 'bagging_fraction': 1.0}\n",
      "Mejor F1-Score: 0.26428502852409197\n"
     ]
    }
   ],
   "source": [
    "# Import necessary libraries\n",
    "import lightgbm as lgb\n",
    "import numpy as np\n",
    "import pandas as pd\n",
    "from sklearn.model_selection import train_test_split, StratifiedKFold, RandomizedSearchCV\n",
    "from sklearn.metrics import f1_score\n",
    "from sklearn.preprocessing import LabelEncoder\n",
    "\n",
    "# One-Hot Encoding para 'preferred_foot'\n",
    "df_train = pd.get_dummies(df_train, columns=['preferred_foot'], drop_first=True)\n",
    "\n",
    "# Label Encoding para 'position'\n",
    "label_encoder = LabelEncoder()\n",
    "df_train['position_encoded'] = label_encoder.fit_transform(df_train['position'])\n",
    "\n",
    "# Incorporar la regla de negocio: Asignar etiqueta GK donde `goalkeeping_speed` != 0\n",
    "gk_label = label_encoder.transform(['GK'])[0]  # Identificar la etiqueta numérica de GK\n",
    "df_train.loc[df_train['goalkeeping_speed'] != 0, 'position_encoded'] = gk_label\n",
    "\n",
    "# Separar características (X) y variable objetivo (y)\n",
    "X = df_train.drop(columns=['position', 'position_encoded'])\n",
    "y = df_train['position_encoded']\n",
    "\n",
    "# Configuración de búsqueda de hiperparámetros para LightGBM\n",
    "param_grid = {\n",
    "    'num_leaves': [15, 31, 63, 127],\n",
    "    'learning_rate': [0.01, 0.05, 0.1, 0.2],\n",
    "    'feature_fraction': [0.6, 0.8, 0.9, 1.0],\n",
    "    'bagging_fraction': [0.6, 0.8, 1.0],\n",
    "    'bagging_freq': [0, 5, 10],\n",
    "    'max_depth': [10, 20, 30, -1],\n",
    "    'lambda_l1': [0, 0.1, 0.5, 1.0],\n",
    "    'lambda_l2': [0, 0.1, 0.5, 1.0]\n",
    "}\n",
    "\n",
    "# Configuración inicial de LightGBM\n",
    "base_params = {\n",
    "    'objective': 'multiclass',\n",
    "    'num_class': y.nunique(),\n",
    "    'metric': 'multi_logloss',\n",
    "    'boosting_type': 'gbdt',\n",
    "    'verbose': -1\n",
    "}\n",
    "\n",
    "# Configurar RandomizedSearchCV\n",
    "kf = StratifiedKFold(n_splits=5, shuffle=True, random_state=42)\n",
    "\n",
    "lgb_estimator = lgb.LGBMClassifier(**base_params, n_jobs=-1)\n",
    "\n",
    "random_search = RandomizedSearchCV(\n",
    "    estimator=lgb_estimator,\n",
    "    param_distributions=param_grid,\n",
    "    n_iter=50,  # Número de combinaciones a evaluar\n",
    "    scoring='f1_macro',  # Métrica para optimizar\n",
    "    cv=kf,  # Validación cruzada estratificada\n",
    "    verbose=1,  # Mostrar progreso\n",
    "    random_state=42,\n",
    "    n_jobs=-1  # Usar todos los núcleos disponibles\n",
    ")\n",
    "\n",
    "# Realizar la búsqueda de hiperparámetros\n",
    "random_search.fit(X, y)\n",
    "\n",
    "# Mejor combinación de hiperparámetros y F1-Score asociado\n",
    "best_params = random_search.best_params_\n",
    "best_score = random_search.best_score_\n",
    "\n",
    "print(\"Mejores hiperparámetros:\", best_params)\n",
    "print(\"Mejor F1-Score:\", best_score)"
   ]
  },
  {
   "cell_type": "code",
   "execution_count": 7,
   "metadata": {},
   "outputs": [
    {
     "name": "stdout",
     "output_type": "stream",
     "text": [
      "F1-Score en el conjunto de prueba: 0.258\n",
      "              precision    recall  f1-score   support\n",
      "\n",
      "         CAM       0.38      0.36      0.37        56\n",
      "          CB       0.00      0.00      0.00        41\n",
      "         CDM       0.24      0.11      0.15        35\n",
      "          CM       0.12      0.06      0.08        18\n",
      "          GK       1.00      1.00      1.00       122\n",
      "          LB       0.58      0.70      0.63        83\n",
      "         LCB       0.41      0.43      0.42       102\n",
      "         LCM       0.20      0.22      0.21        82\n",
      "         LDM       0.14      0.12      0.13        41\n",
      "          LF       0.00      0.00      0.00         6\n",
      "          LM       0.26      0.23      0.25        69\n",
      "          LS       0.10      0.07      0.08        44\n",
      "          LW       0.04      0.04      0.04        27\n",
      "         LWB       0.07      0.05      0.06        20\n",
      "          RB       0.59      0.80      0.68        96\n",
      "         RCB       0.44      0.55      0.49       121\n",
      "         RCM       0.27      0.26      0.27       103\n",
      "         RDM       0.12      0.10      0.11        39\n",
      "          RF       0.00      0.00      0.00         8\n",
      "          RM       0.24      0.25      0.25        75\n",
      "          RS       0.27      0.22      0.24        36\n",
      "          RW       0.15      0.11      0.13        37\n",
      "         RWB       0.08      0.04      0.06        23\n",
      "          ST       0.49      0.66      0.56        95\n",
      "\n",
      "    accuracy                           0.41      1379\n",
      "   macro avg       0.26      0.27      0.26      1379\n",
      "weighted avg       0.37      0.41      0.39      1379\n",
      "\n"
     ]
    }
   ],
   "source": [
    "import lightgbm as lgb\n",
    "from sklearn.model_selection import train_test_split\n",
    "from sklearn.metrics import classification_report, f1_score\n",
    "\n",
    "# Separar características (X) y variable objetivo (y)\n",
    "X = df_train.drop(columns=['position', 'position_encoded'])\n",
    "y = df_train['position_encoded']\n",
    "\n",
    "# Dividir en conjunto de entrenamiento y prueba\n",
    "X_train, X_test, y_train, y_test = train_test_split(X, y, test_size=0.2, random_state=42)\n",
    "\n",
    "# Configurar los mejores hiperparámetros\n",
    "best_params = {\n",
    "    'objective': 'multiclass',\n",
    "    'num_class': y.nunique(),\n",
    "    'metric': 'multi_logloss',\n",
    "    'boosting_type': 'gbdt',\n",
    "    'num_leaves': 127,\n",
    "    'max_depth': -1,\n",
    "    'learning_rate': 0.2,\n",
    "    'lambda_l1': 1.0,\n",
    "    'lambda_l2': 0,\n",
    "    'feature_fraction': 0.9,\n",
    "    'bagging_fraction': 1.0,\n",
    "    'bagging_freq': 5,\n",
    "    'verbose': -1\n",
    "}\n",
    "\n",
    "# Crear datasets para LightGBM\n",
    "train_data = lgb.Dataset(X_train, label=y_train)\n",
    "test_data = lgb.Dataset(X_test, label=y_test, reference=train_data)\n",
    "\n",
    "# Entrenar el modelo\n",
    "model = lgb.train(\n",
    "    best_params,\n",
    "    train_data,\n",
    "    valid_sets=[train_data, test_data],\n",
    "    num_boost_round=1000,\n",
    ")\n",
    "\n",
    "# Realizar predicciones en el conjunto de prueba\n",
    "y_pred = model.predict(X_test)\n",
    "y_pred_labels = y_pred.argmax(axis=1)  # Obtener la clase con mayor probabilidad\n",
    "\n",
    "# Evaluar el modelo\n",
    "f1 = f1_score(y_test, y_pred_labels, average='macro')\n",
    "print(f\"F1-Score en el conjunto de prueba: {f1:.3f}\")\n",
    "\n",
    "# Mostrar reporte de clasificación\n",
    "report = classification_report(y_test, y_pred_labels, target_names=label_encoder.classes_)\n",
    "print(report)"
   ]
  },
  {
   "cell_type": "markdown",
   "metadata": {},
   "source": [
    "# Model Prediction"
   ]
  },
  {
   "cell_type": "code",
   "execution_count": 8,
   "metadata": {},
   "outputs": [],
   "source": [
    "df_test = pd.read_csv('test.csv')\n",
    "original_df_test = df_test.copy()"
   ]
  },
  {
   "cell_type": "code",
   "execution_count": 9,
   "metadata": {},
   "outputs": [],
   "source": [
    "# Convert 'birthday_date' to datetime format\n",
    "df_test['birthday_date'] = pd.to_datetime(df_test['birthday_date'], errors='coerce')\n",
    "\n",
    "# Calculate age\n",
    "current_year = datetime.now().year\n",
    "df_test['age'] = current_year - df_test['birthday_date'].dt.year"
   ]
  },
  {
   "cell_type": "code",
   "execution_count": 10,
   "metadata": {},
   "outputs": [],
   "source": [
    "columnt_to_drop = [ \n",
    "                   'id',\n",
    "                   'short_name',\n",
    "                   'value_eur',\n",
    "                   'wage_eur',\n",
    "                   'birthday_date',\n",
    "                   'club_name',\n",
    "                   'league_name',\n",
    "                   'league_level',\n",
    "                   'club_jersey_number',\n",
    "                   'club_loaned_from',\n",
    "                   'club_joined',\n",
    "                   'club_contract_valid_until',\n",
    "                   'nationality_name',\n",
    "                   'nation_jersey_number',\n",
    "                   'international_reputation',\n",
    "                   'work_rate',\n",
    "                   'body_type',\n",
    "                   'real_face',\n",
    "                   'release_clause_eur',\n",
    "                   'player_tags',\n",
    "                   'player_traits',\n",
    "                   'goalkeeping_handling',\n",
    "                   'goalkeeping_kicking',\n",
    "                   'goalkeeping_positioning',\n",
    "                   'goalkeeping_reflexes',\n",
    "                   ]\n",
    "\n",
    "df_test = df_test.drop(columnt_to_drop, axis=1)"
   ]
  },
  {
   "cell_type": "code",
   "execution_count": 11,
   "metadata": {},
   "outputs": [],
   "source": [
    "df_test.loc[df_test['goalkeeping_speed'].isna(), ['goalkeeping_speed']] = 0 \n",
    "df_test.loc[df_test['goalkeeping_speed'] != 0, ['pace', 'shooting', 'passing', 'dribbling', 'defending', 'physic']] = 0"
   ]
  },
  {
   "cell_type": "code",
   "execution_count": 12,
   "metadata": {},
   "outputs": [],
   "source": [
    "# One-Hot Encoding para 'preferred_foot'\n",
    "df_test = pd.get_dummies(df_test, columns=['preferred_foot'], drop_first=True)\n"
   ]
  },
  {
   "cell_type": "code",
   "execution_count": 13,
   "metadata": {},
   "outputs": [],
   "source": [
    "# Predicciones en el conjunto de validación\n",
    "y_val_pred_kaggle = model.predict(df_test)\n",
    "y_val_pred_labels_kaggle = np.argmax(y_val_pred_kaggle, axis=1)\n",
    "    \n",
    "# Reinserción de la regla de negocio en predicciones\n",
    "# Asegurar que donde `goalkeeping_speed != 0`, la etiqueta predicha sea GK\n",
    "y_val_pred_labels_kaggle[df_test['goalkeeping_speed'] != 0] = gk_label\n",
    "y_val_pred_labels_kaggle_decoded = label_encoder.inverse_transform(y_val_pred_labels_kaggle)\n"
   ]
  },
  {
   "cell_type": "code",
   "execution_count": 14,
   "metadata": {},
   "outputs": [
    {
     "name": "stdout",
     "output_type": "stream",
     "text": [
      "         id prediccion\n",
      "0    215562         RB\n",
      "1    248311        LCB\n",
      "2    223933         ST\n",
      "3    232546        CAM\n",
      "4    189217         LM\n",
      "..      ...        ...\n",
      "762  205601         LW\n",
      "763  223752        LCB\n",
      "764  192450         ST\n",
      "765  192366        RCB\n",
      "766  232228         RS\n",
      "\n",
      "[767 rows x 2 columns]\n"
     ]
    }
   ],
   "source": [
    "# Crear el DataFrame final con 'id' y las predicciones\n",
    "# Supongamos que original_df_test contiene la columna 'id'\n",
    "df_resultado = pd.DataFrame({\n",
    "    'id': original_df_test['id'],  # Recuperar la columna 'id' del DataFrame original\n",
    "    'prediccion': y_val_pred_labels_kaggle_decoded  # Predicciones decodificadas\n",
    "})\n",
    "\n",
    "# Mostrar el DataFrame final\n",
    "print(df_resultado)\n",
    "\n",
    "# (Opcional) Exportar a CSV\n",
    "df_resultado.to_csv('lightGBM_Pred4.csv', index=False)"
   ]
  }
 ],
 "metadata": {
  "kernelspec": {
   "display_name": "brushup_env",
   "language": "python",
   "name": "python3"
  },
  "language_info": {
   "codemirror_mode": {
    "name": "ipython",
    "version": 3
   },
   "file_extension": ".py",
   "mimetype": "text/x-python",
   "name": "python",
   "nbconvert_exporter": "python",
   "pygments_lexer": "ipython3",
   "version": "3.12.5"
  }
 },
 "nbformat": 4,
 "nbformat_minor": 2
}
