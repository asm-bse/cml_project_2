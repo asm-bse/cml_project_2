{
 "cells": [
  {
   "cell_type": "markdown",
   "metadata": {},
   "source": [
    "# Model Training:"
   ]
  },
  {
   "cell_type": "code",
   "execution_count": 1,
   "metadata": {},
   "outputs": [
    {
     "name": "stdout",
     "output_type": "stream",
     "text": [
      "Fitting 5 folds for each of 50 candidates, totalling 250 fits\n"
     ]
    },
    {
     "name": "stderr",
     "output_type": "stream",
     "text": [
      "/opt/miniconda3/envs/brushup_env/lib/python3.12/site-packages/joblib/externals/loky/process_executor.py:752: UserWarning: A worker stopped while some jobs were given to the executor. This can be caused by a too short worker timeout or by a memory leak.\n",
      "  warnings.warn(\n"
     ]
    },
    {
     "name": "stdout",
     "output_type": "stream",
     "text": [
      "Mejores hiperparámetros: {'n_estimators': 200, 'min_samples_split': 5, 'min_samples_leaf': 2, 'max_features': 'sqrt', 'max_depth': 20}\n",
      "Mejor F1-Score promedio (validación cruzada): 0.3242412282798508\n",
      "Best Parameters: {'n_estimators': 200, 'min_samples_split': 5, 'min_samples_leaf': 2, 'max_features': 'sqrt', 'max_depth': 20}\n",
      "Best F1-Score: 0.324\n"
     ]
    }
   ],
   "source": [
    "# Import necessary libraries\n",
    "import pandas as pd\n",
    "from sklearn.preprocessing import LabelEncoder\n",
    "from sklearn.model_selection import train_test_split, RandomizedSearchCV\n",
    "from sklearn.ensemble import RandomForestClassifier\n",
    "from sklearn.metrics import f1_score\n",
    "from datetime import datetime\n",
    "import numpy as np\n",
    "\n",
    "# Load the dataset\n",
    "file_path = 'train.csv'  # Replace with your file path\n",
    "df_train = pd.read_csv(file_path)\n",
    "\n",
    "# Step 1: Create the 'age' column from 'birthday_date'\n",
    "df_train['birthday_date'] = pd.to_datetime(df_train['birthday_date'], errors='coerce')\n",
    "today = datetime.today()\n",
    "df_train['age'] = df_train['birthday_date'].apply(lambda x: today.year - x.year - ((today.month, today.day) < (x.month, x.day)))\n",
    "\n",
    "# Step 2: Handle missing values in 'goalkeeping_speed' and adjust related features\n",
    "df_train.loc[df_train['goalkeeping_speed'].isna(), ['goalkeeping_speed']] = 0\n",
    "df_train.loc[df_train['goalkeeping_speed'] != 0, ['pace', 'shooting', 'passing', 'dribbling', 'defending', 'physic']] = 0\n",
    "\n",
    "# Step 3: Encode the target variable 'position'\n",
    "label_encoder_position = LabelEncoder()\n",
    "df_train['position_encoded'] = label_encoder_position.fit_transform(df_train['position'])\n",
    "\n",
    "# Step 5: Encode 'preferred_foot'\n",
    "label_encoder_foot = LabelEncoder()\n",
    "df_train['preferred_foot_encoded'] = label_encoder_foot.fit_transform(df_train['preferred_foot'])\n",
    "\n",
    "# Step 4: Drop unnecessary columns\n",
    "columns_to_drop = [\n",
    "    'short_name', 'value_eur', 'wage_eur', 'birthday_date', \n",
    "    'club_name', 'league_name', 'league_level', \n",
    "    'club_jersey_number', 'club_loaned_from', 'club_joined', \n",
    "    'club_contract_valid_until', 'nationality_name', 'nation_jersey_number',\n",
    "    'real_face', 'player_tags', 'player_traits', \n",
    "    'goalkeeping_handling', 'goalkeeping_kicking', \n",
    "    'goalkeeping_positioning', 'goalkeeping_reflexes', \n",
    "    'international_reputation', 'goalkeeping_diving', \n",
    "    'position', 'release_clause_eur', 'id', 'work_rate','preferred_foot'\n",
    "]\n",
    "df_train = df_train.drop(columns=columns_to_drop, errors='ignore')\n",
    "\n",
    "# Step 6: Simplify the 'body_type' column and create dummy variables\n",
    "df_train['body_type'] = df_train['body_type'].astype(str).apply(lambda x: x.split()[0])\n",
    "body_type_dummies = pd.get_dummies(df_train['body_type'], prefix='body_type')\n",
    "df_train = pd.concat([df_train, body_type_dummies], axis=1)\n",
    "df_train = df_train.drop(columns=['body_type'], errors='ignore')\n",
    "\n",
    "# Step 7: Select features based on correlation\n",
    "selected_features = [\n",
    "    'attacking_finishing', 'shooting', 'mentality_positioning', 'pace', \n",
    "    'attacking_volleys', 'mentality_penalties', 'dribbling', 'skill_dribbling', \n",
    "    'skill_ball_control', 'movement_sprint_speed', 'power_long_shots', \n",
    "    'movement_acceleration', 'physic', 'attacking_heading_accuracy', \n",
    "    'skill_moves', 'passing', 'skill_curve', 'movement_agility', \n",
    "    'power_stamina', 'power_shot_power', 'attacking_crossing', \n",
    "    'attacking_short_passing', 'goalkeeping_speed'\n",
    "]\n",
    "\n",
    "# Step 8: Prepare X_train and y_train\n",
    "X = df_train[selected_features]\n",
    "y = df_train['position_encoded']\n",
    "\n",
    "X_train, X_test, y_train, y_test = train_test_split(X, y, test_size=0.2, random_state=42)\n",
    "\n",
    "# Define the parameter grid for Random Forest\n",
    "param_grid = {\n",
    "    'n_estimators': [50, 100, 200, 500],\n",
    "    'max_depth': [10, 20, 30, None],\n",
    "    'min_samples_split': [2, 5, 10],\n",
    "    'min_samples_leaf': [1, 2, 4],\n",
    "    'max_features': ['sqrt', 'log2', None]\n",
    "}\n",
    "\n",
    "# Initialize the Random Forest model\n",
    "rf_model = RandomForestClassifier(class_weight='balanced', random_state=42)\n",
    "\n",
    "# Configure the Randomized Search\n",
    "random_search = RandomizedSearchCV(\n",
    "    estimator=rf_model,\n",
    "    param_distributions=param_grid,\n",
    "    n_iter=50,  # Number of settings sampled\n",
    "    scoring='f1_weighted',  # Optimize for F1-Score\n",
    "    cv=5,  # 5-fold cross-validation\n",
    "    verbose=1,  # Show progress\n",
    "    random_state=42,\n",
    "    n_jobs=-1  # Use all cores\n",
    ")\n",
    "\n",
    "# Step 9: Perform the Randomized Search\n",
    "random_search.fit(X, y)\n",
    "\n",
    "# Resultados del ajuste\n",
    "best_params = random_search.best_params_\n",
    "best_score = random_search.best_score_\n",
    "\n",
    "print(\"Mejores hiperparámetros:\", best_params)\n",
    "print(\"Mejor F1-Score promedio (validación cruzada):\", best_score)\n",
    "\n",
    "# Entrenar el modelo final con los mejores parámetros encontrados\n",
    "final_rf_model = RandomForestClassifier(\n",
    "    **best_params,  # Usar los mejores hiperparámetros\n",
    "    class_weight='balanced',\n",
    "    random_state=42\n",
    ")\n",
    "\n",
    "# Entrenar con todo el conjunto de datos\n",
    "final_rf_model.fit(X, y)\n",
    "\n",
    "# Best parameters and corresponding score\n",
    "best_params = random_search.best_params_\n",
    "best_score = random_search.best_score_\n",
    "\n",
    "print(f\"Best Parameters: {best_params}\")\n",
    "print(f\"Best F1-Score: {best_score:.3f}\")"
   ]
  },
  {
   "cell_type": "markdown",
   "metadata": {},
   "source": [
    "# Model Prediction"
   ]
  },
  {
   "cell_type": "code",
   "execution_count": 2,
   "metadata": {},
   "outputs": [],
   "source": [
    "df_test = pd.read_csv('test.csv')\n",
    "original_df_test = pd.read_csv('test.csv')"
   ]
  },
  {
   "cell_type": "code",
   "execution_count": null,
   "metadata": {},
   "outputs": [
    {
     "name": "stdout",
     "output_type": "stream",
     "text": [
      "Predicciones realizadas y guardadas en 'predicted_positions.csv'.\n"
     ]
    }
   ],
   "source": [
    "# Cargar el conjunto de prueba\n",
    "file_path_test = 'test.csv'  # Reemplaza con la ruta de tu archivo de prueba\n",
    "df_test = pd.read_csv(file_path_test)\n",
    "\n",
    "# Aplicar el mismo preprocesamiento al conjunto de prueba\n",
    "# Crear la columna 'age'\n",
    "df_test['birthday_date'] = pd.to_datetime(df_test['birthday_date'], errors='coerce')\n",
    "today = datetime.today()\n",
    "df_test['age'] = df_test['birthday_date'].apply(lambda x: today.year - x.year - ((today.month, today.day) < (x.month, x.day)))\n",
    "\n",
    "# Rellenar valores faltantes y ajustar características relacionadas\n",
    "df_test.loc[df_test['goalkeeping_speed'].isna(), ['goalkeeping_speed']] = 0\n",
    "df_test.loc[df_test['goalkeeping_speed'] != 0, ['pace', 'shooting', 'passing', 'dribbling', 'defending', 'physic']] = 0\n",
    "\n",
    "# Crear dummies para 'body_type' en el conjunto de prueba\n",
    "df_test['body_type'] = df_test['body_type'].astype(str).apply(lambda x: x.split()[0])\n",
    "body_type_dummies_test = pd.get_dummies(df_test['body_type'], prefix='body_type')\n",
    "df_test = pd.concat([df_test, body_type_dummies_test], axis=1)\n",
    "\n",
    "# Asegurarse de que las columnas del conjunto de prueba coincidan con las del entrenamiento\n",
    "# Reindexar el conjunto de prueba para que tenga las mismas columnas que el entrenamiento\n",
    "df_test_aligned = df_test.reindex(columns=X.columns, fill_value=0)\n",
    "\n",
    "# Realizar predicciones con el modelo entrenado\n",
    "y_pred_test = final_rf_model.predict(df_test_aligned)\n",
    "\n",
    "# Decodificar las etiquetas predichas\n",
    "y_pred_decoded = label_encoder_position.inverse_transform(y_pred_test)\n"
   ]
  },
  {
   "cell_type": "code",
   "execution_count": 5,
   "metadata": {},
   "outputs": [
    {
     "name": "stdout",
     "output_type": "stream",
     "text": [
      "         id prediccion\n",
      "0    215562         LB\n",
      "1    248311        LCB\n",
      "2    223933         ST\n",
      "3    232546        CAM\n",
      "4    189217         RM\n",
      "..      ...        ...\n",
      "762  205601         LM\n",
      "763  223752        LCB\n",
      "764  192450         ST\n",
      "765  192366        LCB\n",
      "766  232228         ST\n",
      "\n",
      "[767 rows x 2 columns]\n"
     ]
    }
   ],
   "source": [
    "# Crear el DataFrame final con 'id' y las predicciones\n",
    "# Supongamos que original_df_test contiene la columna 'id'\n",
    "df_resultado = pd.DataFrame({\n",
    "    'id': original_df_test['id'],  # Recuperar la columna 'id' del DataFrame original\n",
    "    'prediccion': y_pred_decoded  # Predicciones decodificadas\n",
    "})\n",
    "\n",
    "# Mostrar el DataFrame final\n",
    "print(df_resultado)\n",
    "\n",
    "# (Opcional) Exportar a CSV\n",
    "df_resultado.to_csv('random_forest_Pred2.csv', index=False)"
   ]
  }
 ],
 "metadata": {
  "kernelspec": {
   "display_name": "brushup_env",
   "language": "python",
   "name": "python3"
  },
  "language_info": {
   "codemirror_mode": {
    "name": "ipython",
    "version": 3
   },
   "file_extension": ".py",
   "mimetype": "text/x-python",
   "name": "python",
   "nbconvert_exporter": "python",
   "pygments_lexer": "ipython3",
   "version": "3.12.5"
  }
 },
 "nbformat": 4,
 "nbformat_minor": 2
}
