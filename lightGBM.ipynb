{
 "cells": [
  {
   "cell_type": "markdown",
   "metadata": {},
   "source": [
    "# Model Training:"
   ]
  },
  {
   "cell_type": "code",
   "execution_count": 1,
   "metadata": {},
   "outputs": [],
   "source": [
    "import lightgbm as lgb\n",
    "from sklearn.metrics import f1_score\n",
    "from sklearn.model_selection import StratifiedKFold\n",
    "import pandas as pd\n",
    "import numpy as np\n",
    "from sklearn.preprocessing import LabelEncoder\n"
   ]
  },
  {
   "cell_type": "code",
   "execution_count": 2,
   "metadata": {},
   "outputs": [],
   "source": [
    "df_train = pd.read_csv('train.csv')"
   ]
  },
  {
   "cell_type": "markdown",
   "metadata": {},
   "source": [
    "Keeping Goal keeper speed."
   ]
  },
  {
   "cell_type": "code",
   "execution_count": 3,
   "metadata": {},
   "outputs": [],
   "source": [
    "columnt_to_drop = [ \n",
    "                   'goalkeeping_reflexes', \n",
    "                   'goalkeeping_positioning', \n",
    "                   'goalkeeping_kicking',\n",
    "                   'goalkeeping_handling',\n",
    "                   'goalkeeping_diving',\n",
    "                   'value_eur',\n",
    "                   'wage_eur',\n",
    "                   'birthday_date',\n",
    "                   'height_cm',\n",
    "                   'weight_kg',\n",
    "                   'club_name',\n",
    "                   'league_name',\n",
    "                   'league_level',\n",
    "                   'club_jersey_number',\n",
    "                   'club_loaned_from',\n",
    "                   'club_joined',\n",
    "                   'club_contract_valid_until',\n",
    "                   'nation_jersey_number',\n",
    "                   'release_clause_eur',\n",
    "                   'real_face',\n",
    "                   'id',\n",
    "                   'short_name',\n",
    "                   'overall',\n",
    "                   'potential',\n",
    "                   'nationality_name',\n",
    "                   'body_type',\n",
    "                   'international_reputation',\n",
    "                   'player_tags',\n",
    "                   'player_traits',\n",
    "                   'work_rate',\n",
    "                   'weak_foot',\n",
    "                   'skill_moves'\n",
    "                   ]\n",
    "\n",
    "df_train = df_train.drop(columnt_to_drop, axis=1)"
   ]
  },
  {
   "cell_type": "code",
   "execution_count": 4,
   "metadata": {},
   "outputs": [],
   "source": [
    "df_train.loc[df_train['goalkeeping_speed'].isna(), ['goalkeeping_speed']] = 0 \n",
    "df_train.loc[df_train['goalkeeping_speed'] != 0, ['pace', 'shooting', 'passing', 'dribbling', 'defending', 'physic']] = 0"
   ]
  },
  {
   "cell_type": "code",
   "execution_count": 5,
   "metadata": {},
   "outputs": [
    {
     "name": "stdout",
     "output_type": "stream",
     "text": [
      "F1-Score por pliegue: [np.float64(0.2457880727947966), np.float64(0.2575432665824241), np.float64(0.25436913751851525), np.float64(0.2479349752661415), np.float64(0.25865621570497205)]\n",
      "F1-Score promedio: 0.25285833357336995\n"
     ]
    }
   ],
   "source": [
    "# One-Hot Encoding para 'preferred_foot'\n",
    "df_train = pd.get_dummies(df_train, columns=['preferred_foot'], drop_first=True)\n",
    "\n",
    "label_encoder = LabelEncoder()\n",
    "df_train['position_encoded'] = label_encoder.fit_transform(df_train['position'])\n",
    "\n",
    "# Label Encoding para 'position'\n",
    "from sklearn.preprocessing import LabelEncoder\n",
    "label_encoder = LabelEncoder()\n",
    "df_train['position_encoded'] = label_encoder.fit_transform(df_train['position'])\n",
    "\n",
    "# Incorporar la regla de negocio: Asignar etiqueta GK donde `goalkeeping_speed` != 0\n",
    "gk_label = label_encoder.transform(['GK'])[0]  # Identificar la etiqueta numérica de GK\n",
    "df_train.loc[df_train['goalkeeping_speed'] != 0, 'position_encoded'] = gk_label\n",
    "\n",
    "# Separar características (X) y variable objetivo (y)\n",
    "X = df_train.drop(columns=['position', 'position_encoded'])\n",
    "y = df_train['position_encoded']\n",
    "\n",
    "# Configurar validación cruzada\n",
    "kf = StratifiedKFold(n_splits=5, shuffle=True, random_state=42)\n",
    "\n",
    "# Configuración inicial de LightGBM\n",
    "params = {\n",
    "    'objective': 'multiclass',\n",
    "    'num_class': y.nunique(),\n",
    "    'metric': 'multi_logloss',\n",
    "    'boosting_type': 'gbdt',\n",
    "    'learning_rate': 0.1,\n",
    "    'num_leaves': 31,\n",
    "    'feature_fraction': 0.9,\n",
    "    'bagging_fraction': 0.8,\n",
    "    'bagging_freq': 5,\n",
    "    'verbose': -1\n",
    "}\n",
    "\n",
    "# Almacenar los resultados de F1-Score para cada pliegue\n",
    "f1_scores = []\n",
    "\n",
    "# Validación cruzada\n",
    "for train_index, val_index in kf.split(X, y):\n",
    "    X_train, X_val = X.iloc[train_index], X.iloc[val_index]\n",
    "    y_train, y_val = y.iloc[train_index], y.iloc[val_index]\n",
    "    \n",
    "    # Crear el dataset para LightGBM\n",
    "    train_data = lgb.Dataset(X_train, label=y_train)\n",
    "    val_data = lgb.Dataset(X_val, label=y_val, reference=train_data)\n",
    "    \n",
    "    # Entrenar el modelo\n",
    "    model = lgb.train(\n",
    "        params,\n",
    "        train_data,\n",
    "        valid_sets=[train_data, val_data],\n",
    "        num_boost_round=1000,\n",
    "    )\n",
    "    \n",
    "    # Predicciones en el conjunto de validación\n",
    "    y_val_pred = model.predict(X_val)\n",
    "    y_val_pred_labels = np.argmax(y_val_pred, axis=1)\n",
    "    \n",
    "    # Reinserción de la regla de negocio en predicciones\n",
    "    # Asegurar que donde `goalkeeping_speed != 0`, la etiqueta predicha sea GK\n",
    "    y_val_pred_labels[X_val['goalkeeping_speed'] != 0] = gk_label\n",
    "\n",
    "    # Calcular el F1-Score para este pliegue\n",
    "    f1 = f1_score(y_val, y_val_pred_labels, average='macro')\n",
    "    f1_scores.append(f1)\n",
    "\n",
    "# Calcular el promedio de F1-Score\n",
    "mean_f1_score = np.mean(f1_scores)\n",
    "\n",
    "# Mostrar resultados\n",
    "print(\"F1-Score por pliegue:\", f1_scores)\n",
    "print(\"F1-Score promedio:\", mean_f1_score)"
   ]
  },
  {
   "cell_type": "markdown",
   "metadata": {},
   "source": [
    "# Model Prediction"
   ]
  },
  {
   "cell_type": "code",
   "execution_count": 6,
   "metadata": {},
   "outputs": [],
   "source": [
    "df_test = pd.read_csv('test.csv')\n",
    "original_df_test = df_test.copy()"
   ]
  },
  {
   "cell_type": "code",
   "execution_count": 7,
   "metadata": {},
   "outputs": [],
   "source": [
    "columnt_to_drop = [ \n",
    "                   'goalkeeping_reflexes', \n",
    "                   'goalkeeping_positioning', \n",
    "                   'goalkeeping_kicking',\n",
    "                   'goalkeeping_handling',\n",
    "                   'goalkeeping_diving',\n",
    "                   'value_eur',\n",
    "                   'wage_eur',\n",
    "                   'birthday_date',\n",
    "                   'height_cm',\n",
    "                   'weight_kg',\n",
    "                   'club_name',\n",
    "                   'league_name',\n",
    "                   'league_level',\n",
    "                   'club_jersey_number',\n",
    "                   'club_loaned_from',\n",
    "                   'club_joined',\n",
    "                   'club_contract_valid_until',\n",
    "                   'nation_jersey_number',\n",
    "                   'release_clause_eur',\n",
    "                   'real_face',\n",
    "                   'id',\n",
    "                   'short_name',\n",
    "                   'overall',\n",
    "                   'potential',\n",
    "                   'nationality_name',\n",
    "                   'body_type',\n",
    "                   'international_reputation',\n",
    "                   'player_tags',\n",
    "                   'player_traits',\n",
    "                   'work_rate',\n",
    "                   'weak_foot',\n",
    "                   'skill_moves'\n",
    "                   ]\n",
    "\n",
    "df_test = df_test.drop(columnt_to_drop, axis=1)"
   ]
  },
  {
   "cell_type": "code",
   "execution_count": 8,
   "metadata": {},
   "outputs": [],
   "source": [
    "df_test.loc[df_test['goalkeeping_speed'].isna(), ['goalkeeping_speed']] = 0 \n",
    "df_test.loc[df_test['goalkeeping_speed'] != 0, ['pace', 'shooting', 'passing', 'dribbling', 'defending', 'physic']] = 0"
   ]
  },
  {
   "cell_type": "code",
   "execution_count": 9,
   "metadata": {},
   "outputs": [],
   "source": [
    "# One-Hot Encoding para 'preferred_foot'\n",
    "df_test = pd.get_dummies(df_test, columns=['preferred_foot'], drop_first=True)\n"
   ]
  },
  {
   "cell_type": "code",
   "execution_count": 10,
   "metadata": {},
   "outputs": [],
   "source": [
    "    # Predicciones en el conjunto de validación\n",
    "    y_val_pred_kaggle = model.predict(df_test)\n",
    "    y_val_pred_labels_kaggle = np.argmax(y_val_pred_kaggle, axis=1)\n",
    "    \n",
    "    # Reinserción de la regla de negocio en predicciones\n",
    "    # Asegurar que donde `goalkeeping_speed != 0`, la etiqueta predicha sea GK\n",
    "    y_val_pred_labels_kaggle[df_test['goalkeeping_speed'] != 0] = gk_label\n",
    "    y_val_pred_labels_kaggle_decoded = label_encoder.inverse_transform(y_val_pred_labels_kaggle)\n"
   ]
  },
  {
   "cell_type": "code",
   "execution_count": 11,
   "metadata": {},
   "outputs": [
    {
     "name": "stdout",
     "output_type": "stream",
     "text": [
      "         id prediccion\n",
      "0    215562         RB\n",
      "1    248311        LCB\n",
      "2    223933         ST\n",
      "3    232546         LM\n",
      "4    189217         RB\n",
      "..      ...        ...\n",
      "762  205601         LW\n",
      "763  223752        RCB\n",
      "764  192450         ST\n",
      "765  192366        LCB\n",
      "766  232228         ST\n",
      "\n",
      "[767 rows x 2 columns]\n"
     ]
    }
   ],
   "source": [
    "# Crear el DataFrame final con 'id' y las predicciones\n",
    "# Supongamos que original_df_test contiene la columna 'id'\n",
    "df_resultado = pd.DataFrame({\n",
    "    'id': original_df_test['id'],  # Recuperar la columna 'id' del DataFrame original\n",
    "    'prediccion': y_val_pred_labels_kaggle_decoded  # Predicciones decodificadas\n",
    "})\n",
    "\n",
    "# Mostrar el DataFrame final\n",
    "print(df_resultado)\n",
    "\n",
    "# (Opcional) Exportar a CSV\n",
    "df_resultado.to_csv('lightGBM_Pred.csv', index=False)"
   ]
  }
 ],
 "metadata": {
  "kernelspec": {
   "display_name": "brushup_env",
   "language": "python",
   "name": "python3"
  },
  "language_info": {
   "codemirror_mode": {
    "name": "ipython",
    "version": 3
   },
   "file_extension": ".py",
   "mimetype": "text/x-python",
   "name": "python",
   "nbconvert_exporter": "python",
   "pygments_lexer": "ipython3",
   "version": "3.12.5"
  }
 },
 "nbformat": 4,
 "nbformat_minor": 2
}
